{
 "cells": [
  {
   "cell_type": "code",
   "execution_count": null,
   "metadata": {},
   "outputs": [],
   "source": []
  },
  {
   "cell_type": "code",
   "execution_count": null,
   "metadata": {},
   "outputs": [],
   "source": [
    "%matplotlib inline\n",
    "from pylab import imshow\n",
    "import numpy as np\n",
    "import cv2\n",
    "import torch\n",
    "import albumentations as albu\n"
   ]
  },
  {
   "cell_type": "code",
   "execution_count": 1,
   "metadata": {},
   "outputs": [
    {
     "name": "stdout",
     "output_type": "stream",
     "text": [
      "^C\n"
     ]
    },
    {
     "name": "stdout",
     "output_type": "stream",
     "text": [
      "Collecting iglovikov_helper_functions\n",
      "  Downloading iglovikov_helper_functions-0.0.53-py2.py3-none-any.whl (64 kB)\n",
      "     -------------------------------------- 64.5/64.5 kB 695.6 kB/s eta 0:00:00\n",
      "Collecting addict\n",
      "  Downloading addict-2.4.0-py3-none-any.whl (3.8 kB)\n",
      "Collecting Pillow\n",
      "  Using cached Pillow-9.4.0-cp310-cp310-win_amd64.whl (2.5 MB)\n",
      "Collecting torch\n",
      "  Using cached torch-1.13.1-cp310-cp310-win_amd64.whl (162.6 MB)\n",
      "Collecting opencv-python\n",
      "  Using cached opencv_python-4.7.0.68-cp37-abi3-win_amd64.whl (38.2 MB)\n",
      "Requirement already satisfied: numpy in .\\scraping\\lib\\site-packages (from iglovikov_helper_functions) (1.24.2)\n",
      "Collecting imagecorruptions\n",
      "  Downloading imagecorruptions-1.1.2-py3-none-any.whl (2.1 MB)\n",
      "     ---------------------------------------- 2.1/2.1 MB 399.4 kB/s eta 0:00:00\n",
      "Collecting jpeg4py\n",
      "  Downloading jpeg4py-0.1.4.tar.gz (12 kB)\n",
      "  Preparing metadata (setup.py): started\n",
      "  Preparing metadata (setup.py): finished with status 'done'\n",
      "Collecting joblib\n",
      "  Using cached joblib-1.2.0-py3-none-any.whl (297 kB)\n",
      "Collecting scikit-learn\n",
      "  Downloading scikit_learn-1.2.1-cp310-cp310-win_amd64.whl (8.3 MB)\n",
      "     ---------------------------------------- 8.3/8.3 MB 284.8 kB/s eta 0:00:00\n",
      "Requirement already satisfied: pandas in .\\scraping\\lib\\site-packages (from iglovikov_helper_functions) (1.5.3)\n",
      "Collecting scikit-image\n",
      "  Downloading scikit_image-0.19.3-cp310-cp310-win_amd64.whl (12.0 MB)\n",
      "     -------------------------------------- 12.0/12.0 MB 596.9 kB/s eta 0:00:00\n",
      "Collecting scipy\n",
      "  Using cached scipy-1.10.0-cp310-cp310-win_amd64.whl (42.5 MB)\n",
      "Collecting networkx>=2.2\n",
      "  Downloading networkx-3.0-py3-none-any.whl (2.0 MB)\n",
      "     ---------------------------------------- 2.0/2.0 MB 336.3 kB/s eta 0:00:00\n",
      "Collecting tifffile>=2019.7.26\n",
      "  Downloading tifffile-2023.2.3-py3-none-any.whl (215 kB)\n",
      "     ------------------------------------ 215.1/215.1 kB 226.1 kB/s eta 0:00:00\n",
      "Collecting PyWavelets>=1.1.1\n",
      "  Downloading PyWavelets-1.4.1-cp310-cp310-win_amd64.whl (4.2 MB)\n",
      "     ---------------------------------------- 4.2/4.2 MB 200.6 kB/s eta 0:00:00\n",
      "Collecting imageio>=2.4.1\n",
      "  Downloading imageio-2.25.0-py3-none-any.whl (3.4 MB)\n",
      "     ---------------------------------------- 3.4/3.4 MB 96.3 kB/s eta 0:00:00\n",
      "Requirement already satisfied: packaging>=20.0 in .\\scraping\\lib\\site-packages (from scikit-image->iglovikov_helper_functions) (23.0)\n",
      "Requirement already satisfied: cffi in .\\scraping\\lib\\site-packages (from jpeg4py->iglovikov_helper_functions) (1.15.1)\n",
      "Requirement already satisfied: pytz>=2020.1 in .\\scraping\\lib\\site-packages (from pandas->iglovikov_helper_functions) (2022.7.1)\n",
      "Requirement already satisfied: python-dateutil>=2.8.1 in .\\scraping\\lib\\site-packages (from pandas->iglovikov_helper_functions) (2.8.2)\n",
      "Collecting threadpoolctl>=2.0.0\n",
      "  Using cached threadpoolctl-3.1.0-py3-none-any.whl (14 kB)\n",
      "Requirement already satisfied: typing-extensions in .\\scraping\\lib\\site-packages (from torch->iglovikov_helper_functions) (4.4.0)\n",
      "Requirement already satisfied: six>=1.5 in .\\scraping\\lib\\site-packages (from python-dateutil>=2.8.1->pandas->iglovikov_helper_functions) (1.16.0)\n",
      "Requirement already satisfied: pycparser in .\\scraping\\lib\\site-packages (from cffi->jpeg4py->iglovikov_helper_functions) (2.21)\n",
      "Installing collected packages: addict, torch, tifffile, threadpoolctl, scipy, PyWavelets, Pillow, opencv-python, networkx, joblib, scikit-learn, jpeg4py, imageio, scikit-image, imagecorruptions, iglovikov_helper_functions\n",
      "  Running setup.py install for jpeg4py: started\n",
      "  Running setup.py install for jpeg4py: finished with status 'done'\n",
      "Successfully installed Pillow-9.4.0 PyWavelets-1.4.1 addict-2.4.0 iglovikov_helper_functions-0.0.53 imagecorruptions-1.1.2 imageio-2.25.0 joblib-1.2.0 jpeg4py-0.1.4 networkx-3.0 opencv-python-4.7.0.68 scikit-image-0.19.3 scikit-learn-1.2.1 scipy-1.10.0 threadpoolctl-3.1.0 tifffile-2023.2.3 torch-1.13.1\n"
     ]
    },
    {
     "name": "stderr",
     "output_type": "stream",
     "text": [
      "  DEPRECATION: jpeg4py is being installed using the legacy 'setup.py install' method, because it does not have a 'pyproject.toml' and the 'wheel' package is not installed. pip 23.1 will enforce this behaviour change. A possible replacement is to enable the '--use-pep517' option. Discussion can be found at https://github.com/pypa/pip/issues/8559\n",
      "\n",
      "[notice] A new release of pip available: 22.3.1 -> 23.0\n",
      "[notice] To update, run: python.exe -m pip install --upgrade pip\n"
     ]
    }
   ],
   "source": [
    "!pip install iglovikov_helper_functions"
   ]
  },
  {
   "cell_type": "code",
   "execution_count": null,
   "metadata": {},
   "outputs": [],
   "source": [
    "!pip install cloths_segmentation"
   ]
  }
 ],
 "metadata": {
  "kernelspec": {
   "display_name": "scraping",
   "language": "python",
   "name": "python3"
  },
  "language_info": {
   "codemirror_mode": {
    "name": "ipython",
    "version": 3
   },
   "file_extension": ".py",
   "mimetype": "text/x-python",
   "name": "python",
   "nbconvert_exporter": "python",
   "pygments_lexer": "ipython3",
   "version": "3.10.9"
  },
  "orig_nbformat": 4,
  "vscode": {
   "interpreter": {
    "hash": "9f664ab14f881270f6cb738ada9cdc617a115279c45c5e08d23c40b7bda2df46"
   }
  }
 },
 "nbformat": 4,
 "nbformat_minor": 2
}
