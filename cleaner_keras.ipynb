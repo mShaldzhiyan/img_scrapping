{
 "cells": [
  {
   "cell_type": "code",
   "execution_count": 2,
   "metadata": {},
   "outputs": [],
   "source": [
    "from keras.applications.efficientnet_v2 import EfficientNetV2B3\n",
    "from keras.preprocessing import image\n",
    "import tensorflow as tf\n",
    "from tqdm import tqdm\n",
    "import pandas as pd\n",
    "import numpy as np\n",
    "import shutil\n",
    "import keras\n",
    "import os"
   ]
  },
  {
   "cell_type": "code",
   "execution_count": 3,
   "metadata": {},
   "outputs": [
    {
     "name": "stdout",
     "output_type": "stream",
     "text": [
      "2.8.4\n"
     ]
    }
   ],
   "source": [
    "print(tf.__version__)"
   ]
  },
  {
   "cell_type": "code",
   "execution_count": 4,
   "metadata": {},
   "outputs": [],
   "source": [
    "TARGET_SIZE = (540, 756) #half of original"
   ]
  },
  {
   "cell_type": "code",
   "execution_count": 5,
   "metadata": {},
   "outputs": [],
   "source": [
    "MODEL_TRAIN = False\n",
    "if MODEL_TRAIN:\n",
    "    ds_train = tf.keras.utils.image_dataset_from_directory(\n",
    "        'ds_train',\n",
    "        labels='inferred',\n",
    "        label_mode='binary',\n",
    "        color_mode='rgb',\n",
    "        batch_size=1,\n",
    "        image_size=TARGET_SIZE,\n",
    "        subset='training',\n",
    "        seed=42,\n",
    "        validation_split=0.2,\n",
    "        interpolation='bilinear',\n",
    "    )\n",
    "\n",
    "    ds_valid = tf.keras.utils.image_dataset_from_directory(\n",
    "        'ds_train',\n",
    "        labels='inferred',\n",
    "        label_mode='binary',\n",
    "        color_mode='rgb',\n",
    "        batch_size=1,\n",
    "        image_size=TARGET_SIZE,\n",
    "        subset='validation',\n",
    "        seed=42,\n",
    "        validation_split=0.2,\n",
    "        interpolation='bilinear',\n",
    "    )\n",
    "\n",
    "    base_model = EfficientNetV2B3(\n",
    "        weights='imagenet', include_top=False)\n",
    "    base_model.trainable = False\n",
    "    model = keras.Sequential([\n",
    "        base_model,\n",
    "        keras.layers.GlobalAveragePooling2D(),\n",
    "        keras.layers.Dense(256, activation='relu'),\n",
    "        keras.layers.Dense(128, activation='relu'),\n",
    "        keras.layers.Dense(1, activation='sigmoid')\n",
    "    ])\n",
    "\n",
    "    model.compile(loss='binary_crossentropy',\n",
    "                  optimizer=tf.keras.optimizers.Adam(learning_rate=0.000001),\n",
    "                  metrics=[\n",
    "                      'accuracy',\n",
    "                      tf.keras.metrics.AUC()\n",
    "                  ])\n",
    "    print(\"Num GPUs Available: \", len(tf.config.list_physical_devices('GPU')))\n",
    "    history = model.fit(\n",
    "        ds_train,\n",
    "        validation_data=ds_valid,\n",
    "        epochs=1000,\n",
    "        callbacks=[tf.keras.callbacks.EarlyStopping(\n",
    "            patience=3, restore_best_weights=True, monitor='val_loss')],\n",
    "    )\n",
    "    #     Epoch 50/1000\n",
    "    # 724/724 [==============================] - 36s 50ms/step - loss: 0.0265 - accuracy: 0.9972 - auc: 0.9972 - val_loss: 0.0651 - val_accuracy: 0.9889 - val_auc: 0.9915\n",
    "    model.save('cleaning_model.h5')\n",
    "else:\n",
    "    model = keras.models.load_model('cleaning_model.h5')\n"
   ]
  },
  {
   "cell_type": "code",
   "execution_count": 6,
   "metadata": {},
   "outputs": [
    {
     "name": "stderr",
     "output_type": "stream",
     "text": [
      "100%|██████████| 1499/1499 [03:44<00:00,  6.67it/s]\n"
     ]
    }
   ],
   "source": [
    "FOLDER_CLEANING = \"deep/person\"\n",
    "img_paths = []\n",
    "scores = []\n",
    "for file in tqdm(os.listdir(FOLDER_CLEANING)):\n",
    "    path = os.path.join(FOLDER_CLEANING, file)\n",
    "    img = image.load_img(path, target_size=TARGET_SIZE, interpolation='bilinear')\n",
    "    img = image.img_to_array(img)\n",
    "    img = np.expand_dims(img, axis=0)\n",
    "    pred = model.predict(img)\n",
    "    img_paths.append(file)\n",
    "    scores.append(pred[0][0])"
   ]
  },
  {
   "cell_type": "code",
   "execution_count": 7,
   "metadata": {},
   "outputs": [
    {
     "data": {
      "text/plain": [
       "<AxesSubplot: >"
      ]
     },
     "execution_count": 7,
     "metadata": {},
     "output_type": "execute_result"
    },
    {
     "data": {
      "image/png": "[encoded data removed]",
      "text/plain": [
       "<Figure size 640x480 with 1 Axes>"
      ]
     },
     "metadata": {},
     "output_type": "display_data"
    }
   ],
   "source": [
    "df = pd.DataFrame()\n",
    "df['file'] = img_paths\n",
    "df['score'] = scores\n",
    "df.score.hist(bins=100)"
   ]
  },
  {
   "cell_type": "code",
   "execution_count": 8,
   "metadata": {},
   "outputs": [],
   "source": [
    "THRESHOLD = 0.5"
   ]
  },
  {
   "cell_type": "code",
   "execution_count": 9,
   "metadata": {},
   "outputs": [
    {
     "data": {
      "text/plain": [
       "((39, 2), (0, 2), (0, 2))"
      ]
     },
     "execution_count": 9,
     "metadata": {},
     "output_type": "execute_result"
    }
   ],
   "source": [
    "df[df.score < 0.9].shape, df[df.score < 0.5].shape, df[df.score < 0.1].shape"
   ]
  },
  {
   "cell_type": "code",
   "execution_count": 10,
   "metadata": {},
   "outputs": [],
   "source": [
    "FOLDER_MOVETO = \"deep/suspicious\"\n",
    "MOVE = False\n",
    "if MOVE:\n",
    "    for a in tqdm(df[df.score < THRESHOLD].file):\n",
    "        shutil.move(os.path.join(FOLDER_CLEANING, a), FOLDER_MOVETO)"
   ]
  }
 ],
 "metadata": {
  "kernelspec": {
   "display_name": "tf_gpu",
   "language": "python",
   "name": "python3"
  },
  "language_info": {
   "codemirror_mode": {
    "name": "ipython",
    "version": 3
   },
   "file_extension": ".py",
   "mimetype": "text/x-python",
   "name": "python",
   "nbconvert_exporter": "python",
   "pygments_lexer": "ipython3",
   "version": "3.9.15"
  },
  "orig_nbformat": 4,
  "vscode": {
   "interpreter": {
    "hash": "f3c623f6acdd19ab33df0479ab84ef2ba5ed62403b128c17015aa00765b31ae5"
   }
  }
 },
 "nbformat": 4,
 "nbformat_minor": 2
}
