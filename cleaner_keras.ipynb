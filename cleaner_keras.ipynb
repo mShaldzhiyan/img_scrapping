{
 "cells": [
  {
   "cell_type": "code",
   "execution_count": 1,
   "metadata": {},
   "outputs": [],
   "source": [
    "from keras.applications.efficientnet_v2 import EfficientNetV2B3\n",
    "from keras.preprocessing import image\n",
    "import tensorflow as tf\n",
    "from tqdm import tqdm\n",
    "import pandas as pd\n",
    "import numpy as np\n",
    "import shutil\n",
    "import keras\n",
    "import os"
   ]
  },
  {
   "cell_type": "code",
   "execution_count": 2,
   "metadata": {},
   "outputs": [
    {
     "name": "stdout",
     "output_type": "stream",
     "text": [
      "2.8.4\n"
     ]
    }
   ],
   "source": [
    "print(tf.__version__)"
   ]
  },
  {
   "cell_type": "code",
   "execution_count": 3,
   "metadata": {},
   "outputs": [],
   "source": [
    "TARGET_SIZE = (540, 756)"
   ]
  },
  {
   "cell_type": "code",
   "execution_count": 4,
   "metadata": {},
   "outputs": [
    {
     "name": "stdout",
     "output_type": "stream",
     "text": [
      "Found 904 files belonging to 2 classes.\n",
      "Using 724 files for training.\n",
      "Found 904 files belonging to 2 classes.\n",
      "Using 180 files for validation.\n",
      "Num GPUs Available:  1\n",
      "Epoch 1/1000\n",
      "724/724 [==============================] - 83s 85ms/step - loss: 0.6296 - accuracy: 0.8177 - auc: 0.8771 - val_loss: 0.5827 - val_accuracy: 0.9333 - val_auc: 0.9691\n",
      "Epoch 2/1000\n",
      "724/724 [==============================] - 56s 77ms/step - loss: 0.5638 - accuracy: 0.9227 - auc: 0.9705 - val_loss: 0.5180 - val_accuracy: 0.9556 - val_auc: 0.9877\n",
      "Epoch 3/1000\n",
      "724/724 [==============================] - 55s 75ms/step - loss: 0.5045 - accuracy: 0.9461 - auc: 0.9864 - val_loss: 0.4600 - val_accuracy: 0.9611 - val_auc: 0.9908\n",
      "Epoch 4/1000\n",
      "724/724 [==============================] - 55s 75ms/step - loss: 0.4501 - accuracy: 0.9586 - auc: 0.9909 - val_loss: 0.4075 - val_accuracy: 0.9611 - val_auc: 0.9911\n",
      "Epoch 5/1000\n",
      "724/724 [==============================] - 54s 74ms/step - loss: 0.4004 - accuracy: 0.9627 - auc: 0.9926 - val_loss: 0.3602 - val_accuracy: 0.9667 - val_auc: 0.9923\n",
      "Epoch 6/1000\n",
      "724/724 [==============================] - 55s 76ms/step - loss: 0.3548 - accuracy: 0.9682 - auc: 0.9937 - val_loss: 0.3175 - val_accuracy: 0.9667 - val_auc: 0.9926\n",
      "Epoch 7/1000\n",
      "724/724 [==============================] - 55s 76ms/step - loss: 0.3137 - accuracy: 0.9751 - auc: 0.9943 - val_loss: 0.2798 - val_accuracy: 0.9667 - val_auc: 0.9923\n",
      "Epoch 8/1000\n",
      "724/724 [==============================] - 55s 75ms/step - loss: 0.2768 - accuracy: 0.9793 - auc: 0.9946 - val_loss: 0.2469 - val_accuracy: 0.9778 - val_auc: 0.9924\n",
      "Epoch 9/1000\n",
      "724/724 [==============================] - 55s 76ms/step - loss: 0.2446 - accuracy: 0.9834 - auc: 0.9948 - val_loss: 0.2188 - val_accuracy: 0.9778 - val_auc: 0.9926\n",
      "Epoch 10/1000\n",
      "724/724 [==============================] - 56s 77ms/step - loss: 0.2170 - accuracy: 0.9848 - auc: 0.9952 - val_loss: 0.1954 - val_accuracy: 0.9778 - val_auc: 0.9928\n",
      "Epoch 11/1000\n",
      "724/724 [==============================] - 55s 76ms/step - loss: 0.1935 - accuracy: 0.9862 - auc: 0.9953 - val_loss: 0.1759 - val_accuracy: 0.9778 - val_auc: 0.9929\n",
      "Epoch 12/1000\n",
      "724/724 [==============================] - 55s 76ms/step - loss: 0.1734 - accuracy: 0.9862 - auc: 0.9956 - val_loss: 0.1596 - val_accuracy: 0.9778 - val_auc: 0.9930\n",
      "Epoch 13/1000\n",
      "724/724 [==============================] - 55s 75ms/step - loss: 0.1562 - accuracy: 0.9876 - auc: 0.9956 - val_loss: 0.1459 - val_accuracy: 0.9778 - val_auc: 0.9930\n",
      "Epoch 14/1000\n",
      "724/724 [==============================] - 55s 76ms/step - loss: 0.1414 - accuracy: 0.9862 - auc: 0.9959 - val_loss: 0.1343 - val_accuracy: 0.9778 - val_auc: 0.9930\n",
      "Epoch 15/1000\n",
      "724/724 [==============================] - 55s 76ms/step - loss: 0.1286 - accuracy: 0.9862 - auc: 0.9958 - val_loss: 0.1245 - val_accuracy: 0.9778 - val_auc: 0.9927\n",
      "Epoch 16/1000\n",
      "724/724 [==============================] - 56s 77ms/step - loss: 0.1175 - accuracy: 0.9862 - auc: 0.9960 - val_loss: 0.1161 - val_accuracy: 0.9833 - val_auc: 0.9927\n",
      "Epoch 17/1000\n",
      "724/724 [==============================] - 55s 76ms/step - loss: 0.1077 - accuracy: 0.9862 - auc: 0.9962 - val_loss: 0.1090 - val_accuracy: 0.9889 - val_auc: 0.9924\n",
      "Epoch 18/1000\n",
      "724/724 [==============================] - 56s 77ms/step - loss: 0.0992 - accuracy: 0.9862 - auc: 0.9964 - val_loss: 0.1028 - val_accuracy: 0.9889 - val_auc: 0.9930\n",
      "Epoch 19/1000\n",
      "724/724 [==============================] - 55s 76ms/step - loss: 0.0917 - accuracy: 0.9862 - auc: 0.9963 - val_loss: 0.0975 - val_accuracy: 0.9889 - val_auc: 0.9927\n",
      "Epoch 20/1000\n",
      "724/724 [==============================] - 53s 74ms/step - loss: 0.0851 - accuracy: 0.9890 - auc: 0.9964 - val_loss: 0.0930 - val_accuracy: 0.9889 - val_auc: 0.9927\n",
      "Epoch 21/1000\n",
      "724/724 [==============================] - 52s 72ms/step - loss: 0.0792 - accuracy: 0.9890 - auc: 0.9966 - val_loss: 0.0890 - val_accuracy: 0.9889 - val_auc: 0.9927\n",
      "Epoch 22/1000\n",
      "724/724 [==============================] - 52s 72ms/step - loss: 0.0740 - accuracy: 0.9903 - auc: 0.9965 - val_loss: 0.0856 - val_accuracy: 0.9889 - val_auc: 0.9928\n",
      "Epoch 23/1000\n",
      "724/724 [==============================] - 52s 72ms/step - loss: 0.0694 - accuracy: 0.9903 - auc: 0.9966 - val_loss: 0.0827 - val_accuracy: 0.9889 - val_auc: 0.9927\n",
      "Epoch 24/1000\n",
      "724/724 [==============================] - 52s 72ms/step - loss: 0.0652 - accuracy: 0.9903 - auc: 0.9966 - val_loss: 0.0801 - val_accuracy: 0.9889 - val_auc: 0.9923\n",
      "Epoch 25/1000\n",
      "724/724 [==============================] - 52s 72ms/step - loss: 0.0616 - accuracy: 0.9903 - auc: 0.9966 - val_loss: 0.0779 - val_accuracy: 0.9889 - val_auc: 0.9931\n",
      "Epoch 26/1000\n",
      "724/724 [==============================] - 55s 76ms/step - loss: 0.0582 - accuracy: 0.9917 - auc: 0.9966 - val_loss: 0.0759 - val_accuracy: 0.9889 - val_auc: 0.9926\n",
      "Epoch 27/1000\n",
      "724/724 [==============================] - 55s 75ms/step - loss: 0.0552 - accuracy: 0.9917 - auc: 0.9966 - val_loss: 0.0742 - val_accuracy: 0.9889 - val_auc: 0.9932\n",
      "Epoch 28/1000\n",
      "724/724 [==============================] - 62s 86ms/step - loss: 0.0525 - accuracy: 0.9931 - auc: 0.9968 - val_loss: 0.0728 - val_accuracy: 0.9889 - val_auc: 0.9923\n",
      "Epoch 29/1000\n",
      "724/724 [==============================] - 56s 77ms/step - loss: 0.0501 - accuracy: 0.9931 - auc: 0.9967 - val_loss: 0.0715 - val_accuracy: 0.9889 - val_auc: 0.9931\n",
      "Epoch 30/1000\n",
      "724/724 [==============================] - 70s 97ms/step - loss: 0.0478 - accuracy: 0.9931 - auc: 0.9969 - val_loss: 0.0704 - val_accuracy: 0.9889 - val_auc: 0.9917\n",
      "Epoch 31/1000\n",
      "724/724 [==============================] - 56s 77ms/step - loss: 0.0458 - accuracy: 0.9945 - auc: 0.9968 - val_loss: 0.0695 - val_accuracy: 0.9889 - val_auc: 0.9922\n",
      "Epoch 32/1000\n",
      "724/724 [==============================] - 57s 78ms/step - loss: 0.0439 - accuracy: 0.9945 - auc: 0.9970 - val_loss: 0.0687 - val_accuracy: 0.9889 - val_auc: 0.9931\n",
      "Epoch 33/1000\n",
      "724/724 [==============================] - 56s 77ms/step - loss: 0.0422 - accuracy: 0.9945 - auc: 0.9971 - val_loss: 0.0680 - val_accuracy: 0.9889 - val_auc: 0.9936\n",
      "Epoch 34/1000\n",
      "724/724 [==============================] - 83s 115ms/step - loss: 0.0406 - accuracy: 0.9959 - auc: 0.9973 - val_loss: 0.0673 - val_accuracy: 0.9889 - val_auc: 0.9918\n",
      "Epoch 35/1000\n",
      "724/724 [==============================] - 109s 151ms/step - loss: 0.0391 - accuracy: 0.9972 - auc: 0.9970 - val_loss: 0.0668 - val_accuracy: 0.9889 - val_auc: 0.9919\n",
      "Epoch 36/1000\n",
      "724/724 [==============================] - 114s 157ms/step - loss: 0.0378 - accuracy: 0.9972 - auc: 0.9968 - val_loss: 0.0664 - val_accuracy: 0.9889 - val_auc: 0.9927\n",
      "Epoch 37/1000\n",
      "724/724 [==============================] - 106s 146ms/step - loss: 0.0366 - accuracy: 0.9972 - auc: 0.9970 - val_loss: 0.0660 - val_accuracy: 0.9889 - val_auc: 0.9933\n",
      "Epoch 38/1000\n",
      "724/724 [==============================] - 114s 157ms/step - loss: 0.0354 - accuracy: 0.9972 - auc: 0.9971 - val_loss: 0.0657 - val_accuracy: 0.9889 - val_auc: 0.9934\n",
      "Epoch 39/1000\n",
      "724/724 [==============================] - 36s 49ms/step - loss: 0.0344 - accuracy: 0.9972 - auc: 0.9972 - val_loss: 0.0655 - val_accuracy: 0.9889 - val_auc: 0.9916\n",
      "Epoch 40/1000\n",
      "724/724 [==============================] - 35s 49ms/step - loss: 0.0334 - accuracy: 0.9972 - auc: 0.9973 - val_loss: 0.0653 - val_accuracy: 0.9889 - val_auc: 0.9918\n",
      "Epoch 41/1000\n",
      "724/724 [==============================] - 36s 49ms/step - loss: 0.0325 - accuracy: 0.9972 - auc: 0.9974 - val_loss: 0.0652 - val_accuracy: 0.9889 - val_auc: 0.9921\n",
      "Epoch 42/1000\n",
      "724/724 [==============================] - 36s 50ms/step - loss: 0.0316 - accuracy: 0.9972 - auc: 0.9975 - val_loss: 0.0651 - val_accuracy: 0.9889 - val_auc: 0.9924\n",
      "Epoch 43/1000\n",
      "724/724 [==============================] - 36s 49ms/step - loss: 0.0308 - accuracy: 0.9972 - auc: 0.9977 - val_loss: 0.0650 - val_accuracy: 0.9889 - val_auc: 0.9923\n",
      "Epoch 44/1000\n",
      "724/724 [==============================] - 36s 49ms/step - loss: 0.0301 - accuracy: 0.9972 - auc: 0.9978 - val_loss: 0.0650 - val_accuracy: 0.9889 - val_auc: 0.9926\n",
      "Epoch 45/1000\n",
      "724/724 [==============================] - 36s 49ms/step - loss: 0.0294 - accuracy: 0.9972 - auc: 0.9978 - val_loss: 0.0650 - val_accuracy: 0.9889 - val_auc: 0.9928\n",
      "Epoch 46/1000\n",
      "724/724 [==============================] - 36s 49ms/step - loss: 0.0287 - accuracy: 0.9972 - auc: 0.9979 - val_loss: 0.0650 - val_accuracy: 0.9889 - val_auc: 0.9932\n",
      "Epoch 47/1000\n",
      "724/724 [==============================] - 36s 50ms/step - loss: 0.0281 - accuracy: 0.9972 - auc: 0.9980 - val_loss: 0.0650 - val_accuracy: 0.9889 - val_auc: 0.9935\n",
      "Epoch 48/1000\n",
      "724/724 [==============================] - 36s 49ms/step - loss: 0.0276 - accuracy: 0.9972 - auc: 0.9981 - val_loss: 0.0650 - val_accuracy: 0.9889 - val_auc: 0.9910\n",
      "Epoch 49/1000\n",
      "724/724 [==============================] - 36s 49ms/step - loss: 0.0270 - accuracy: 0.9972 - auc: 0.9982 - val_loss: 0.0650 - val_accuracy: 0.9889 - val_auc: 0.9911\n",
      "Epoch 50/1000\n",
      "724/724 [==============================] - 36s 50ms/step - loss: 0.0265 - accuracy: 0.9972 - auc: 0.9972 - val_loss: 0.0651 - val_accuracy: 0.9889 - val_auc: 0.9915\n"
     ]
    }
   ],
   "source": [
    "MODEL_TRAIN = True\n",
    "if MODEL_TRAIN:\n",
    "    ds_train = tf.keras.utils.image_dataset_from_directory(\n",
    "        'ds_train',\n",
    "        labels='inferred',\n",
    "        label_mode='binary',\n",
    "        color_mode='rgb',\n",
    "        batch_size=1,\n",
    "        image_size=TARGET_SIZE,\n",
    "        subset='training',\n",
    "        seed=42,\n",
    "        validation_split=0.2,\n",
    "        interpolation='bilinear',\n",
    "    )\n",
    "\n",
    "    ds_valid = tf.keras.utils.image_dataset_from_directory(\n",
    "        'ds_train',\n",
    "        labels='inferred',\n",
    "        label_mode='binary',\n",
    "        color_mode='rgb',\n",
    "        batch_size=1,\n",
    "        image_size=TARGET_SIZE,\n",
    "        subset='validation',\n",
    "        seed=42,\n",
    "        validation_split=0.2,\n",
    "        interpolation='bilinear',\n",
    "    )\n",
    "\n",
    "    base_model = EfficientNetV2B3(\n",
    "        weights='imagenet', include_top=False)\n",
    "    base_model.trainable = False\n",
    "    model = keras.Sequential([\n",
    "        base_model,\n",
    "        keras.layers.GlobalAveragePooling2D(),\n",
    "        keras.layers.Dense(256, activation='relu'),\n",
    "        keras.layers.Dense(128, activation='relu'),\n",
    "        keras.layers.Dense(1, activation='sigmoid')\n",
    "    ])\n",
    "\n",
    "    model.compile(loss='binary_crossentropy',\n",
    "                  optimizer=tf.keras.optimizers.Adam(learning_rate=0.000001),\n",
    "                  metrics=[\n",
    "                      'accuracy',\n",
    "                      tf.keras.metrics.AUC()\n",
    "                  ])\n",
    "    print(\"Num GPUs Available: \", len(tf.config.list_physical_devices('GPU')))\n",
    "    history = model.fit(\n",
    "        ds_train,\n",
    "        validation_data=ds_valid,\n",
    "        epochs=1000,\n",
    "        callbacks=[tf.keras.callbacks.EarlyStopping(\n",
    "            patience=3, restore_best_weights=True, monitor='val_loss')],\n",
    "    )\n",
    "    # 713/713 [==============================] - 25s 36ms/step - loss: 2.2178e-05 - accuracy: 1.0000 - auc_2: 1.0000 - val_loss: 0.0033 - val_accuracy: 1.0000 - val_auc_2: 1.0000\n",
    "    model.save('cleaning_model.h5')\n",
    "else:\n",
    "    model = keras.models.load_model('cleaning_model.h5')\n"
   ]
  },
  {
   "cell_type": "code",
   "execution_count": 5,
   "metadata": {},
   "outputs": [
    {
     "name": "stderr",
     "output_type": "stream",
     "text": [
      "100%|██████████| 1542/1542 [04:06<00:00,  6.24it/s]\n"
     ]
    }
   ],
   "source": [
    "FOLDER_CLEANING = \"deep/person\"\n",
    "img_paths = []\n",
    "scores = []\n",
    "for file in tqdm(os.listdir(FOLDER_CLEANING)):\n",
    "    path = os.path.join(FOLDER_CLEANING, file)\n",
    "    img = image.load_img(path, target_size=TARGET_SIZE, interpolation='bilinear')\n",
    "    img = image.img_to_array(img)\n",
    "    img = np.expand_dims(img, axis=0)\n",
    "    pred = model.predict(img)\n",
    "    img_paths.append(file)\n",
    "    scores.append(pred[0][0])"
   ]
  },
  {
   "cell_type": "code",
   "execution_count": 6,
   "metadata": {},
   "outputs": [],
   "source": [
    "THRESHOLD = 0.5"
   ]
  },
  {
   "cell_type": "code",
   "execution_count": 7,
   "metadata": {},
   "outputs": [
    {
     "data": {
      "text/plain": [
       "<AxesSubplot: >"
      ]
     },
     "execution_count": 7,
     "metadata": {},
     "output_type": "execute_result"
    },
    {
     "data": {
      "image/png": "[encoded data removed]",
      "text/plain": [
       "<Figure size 640x480 with 1 Axes>"
      ]
     },
     "metadata": {},
     "output_type": "display_data"
    }
   ],
   "source": [
    "df = pd.DataFrame()\n",
    "df['file'] = img_paths\n",
    "df['score'] = scores\n",
    "df.score.hist(bins=100)"
   ]
  },
  {
   "cell_type": "code",
   "execution_count": 8,
   "metadata": {},
   "outputs": [
    {
     "data": {
      "text/plain": [
       "((82, 2), (43, 2))"
      ]
     },
     "execution_count": 8,
     "metadata": {},
     "output_type": "execute_result"
    }
   ],
   "source": [
    "df[df.score < 0.9].shape, df[df.score < 0.5].shape"
   ]
  },
  {
   "cell_type": "code",
   "execution_count": 9,
   "metadata": {},
   "outputs": [
    {
     "name": "stderr",
     "output_type": "stream",
     "text": [
      "100%|██████████| 43/43 [00:00<00:00, 997.80it/s]\n"
     ]
    }
   ],
   "source": [
    "FOLDER_MOVETO = \"deep/suspicious\"\n",
    "for a in tqdm(df[df.score < THRESHOLD].file):\n",
    "    shutil.move(os.path.join(FOLDER_CLEANING, a), FOLDER_MOVETO)"
   ]
  },
  {
   "cell_type": "code",
   "execution_count": 10,
   "metadata": {},
   "outputs": [],
   "source": [
    "    # model = tf.keras.models.Sequential([\n",
    "    #     tf.keras.layers.Conv2D(16, (3, 3), activation='relu', input_shape=(\n",
    "    #         TARGET_SIZE[0], TARGET_SIZE[1], 3)),\n",
    "    #     tf.keras.layers.MaxPooling2D(2, 2),\n",
    "    #     tf.keras.layers.Conv2D(32, (5, 5), activation='relu'),\n",
    "    #     tf.keras.layers.MaxPooling2D(2, 2),\n",
    "    #     tf.keras.layers.Conv2D(64, (7, 7), activation='relu'),\n",
    "    #     tf.keras.layers.MaxPooling2D(2, 2),\n",
    "    #     tf.keras.layers.Flatten(),\n",
    "    #     tf.keras.layers.Dropout(0.2),\n",
    "    #     tf.keras.layers.Dense(128, activation='relu'),\n",
    "    #     tf.keras.layers.Dropout(0.2),\n",
    "    #     tf.keras.layers.Dense(128, activation='relu'),\n",
    "    #     tf.keras.layers.Dense(1, activation='sigmoid')\n",
    "    # ])"
   ]
  }
 ],
 "metadata": {
  "kernelspec": {
   "display_name": "tf_gpu",
   "language": "python",
   "name": "python3"
  },
  "language_info": {
   "codemirror_mode": {
    "name": "ipython",
    "version": 3
   },
   "file_extension": ".py",
   "mimetype": "text/x-python",
   "name": "python",
   "nbconvert_exporter": "python",
   "pygments_lexer": "ipython3",
   "version": "3.9.15"
  },
  "orig_nbformat": 4,
  "vscode": {
   "interpreter": {
    "hash": "f3c623f6acdd19ab33df0479ab84ef2ba5ed62403b128c17015aa00765b31ae5"
   }
  }
 },
 "nbformat": 4,
 "nbformat_minor": 2
}
