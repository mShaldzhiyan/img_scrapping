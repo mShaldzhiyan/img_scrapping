{
 "cells": [
  {
   "cell_type": "code",
   "execution_count": 2,
   "metadata": {},
   "outputs": [],
   "source": [
    "import requests\n",
    "from bs4 import BeautifulSoup\n",
    "import os\n",
    "import cloudscraper\n",
    "import shutil\n",
    "import time\n",
    "import re\n",
    "from tqdm import tqdm\n",
    "import pandas as pd"
   ]
  },
  {
   "cell_type": "code",
   "execution_count": 32,
   "metadata": {},
   "outputs": [],
   "source": [
    "def tile_to_dict(tile):\n",
    "    item = dict()\n",
    "    item['title'] = tile.findAll('a')[0]['title']\n",
    "    item['data-itemid'] = tile['data-itemid']\n",
    "    item['url'] = tile['data-monetate-producturl']\n",
    "    try:\n",
    "        item['colours'] = [a.find('img')['alt'] for a in tile.findAll('li')]\n",
    "    except Exception as e:\n",
    "        print(e)\n",
    "        item['colours'] = 'Exception'\n",
    "    return item"
   ]
  },
  {
   "attachments": {},
   "cell_type": "markdown",
   "metadata": {},
   "source": [
    "### Parsing tiles"
   ]
  },
  {
   "cell_type": "code",
   "execution_count": 10,
   "metadata": {},
   "outputs": [
    {
     "data": {
      "text/plain": [
       "[1, 2, 3, 4, 5]"
      ]
     },
     "execution_count": 10,
     "metadata": {},
     "output_type": "execute_result"
    }
   ],
   "source": [
    "a = [1, 2, 3]\n",
    "a.extend([4, 5])\n",
    "a"
   ]
  },
  {
   "cell_type": "code",
   "execution_count": 4,
   "metadata": {},
   "outputs": [],
   "source": [
    "URL = r\"https://www.ralphlauren.nl/en/men/clothing/hoodies-sweatshirts/10204?webcat=men%7Cclothing%7Cmen-clothing-hoodies-sweatshirts\"\n",
    "scraper = cloudscraper.create_scraper(delay=10)\n",
    "response = scraper.get(URL)\n",
    "bs = BeautifulSoup(response.content, 'html.parser')\n",
    "product_tiles = bs.select('.product-tile')\n",
    "tiles = [tile_to_dict(a) for a in product_tiles]"
   ]
  },
  {
   "cell_type": "code",
   "execution_count": 13,
   "metadata": {},
   "outputs": [],
   "source": [
    "def scrape_images(url):\n",
    "    tiles = []\n",
    "    for i in range(999):\n",
    "        scraper = cloudscraper.create_scraper(delay=10)\n",
    "        print(i*32)\n",
    "        url = url.replace('?', f'?start={i*32}&')\n",
    "        response = scraper.get(url)\n",
    "        if response.status_code == 403:\n",
    "            print('auth error')\n",
    "            break\n",
    "        soup = BeautifulSoup(response.content, 'html.parser')\n",
    "        product_tiles = soup.select('.product-tile')\n",
    "        t = [tile_to_dict(a) for a in product_tiles]\n",
    "        if len(t) == 0:\n",
    "            print('no tiles')\n",
    "            break\n",
    "        tiles.extend(t)\n",
    "    df = pd.DataFrame(tiles)\n",
    "    return df"
   ]
  },
  {
   "cell_type": "code",
   "execution_count": 44,
   "metadata": {},
   "outputs": [
    {
     "data": {
      "text/html": [
       "<div>\n",
       "<style scoped>\n",
       "    .dataframe tbody tr th:only-of-type {\n",
       "        vertical-align: middle;\n",
       "    }\n",
       "\n",
       "    .dataframe tbody tr th {\n",
       "        vertical-align: top;\n",
       "    }\n",
       "\n",
       "    .dataframe thead th {\n",
       "        text-align: right;\n",
       "    }\n",
       "</style>\n",
       "<table border=\"1\" class=\"dataframe\">\n",
       "  <thead>\n",
       "    <tr style=\"text-align: right;\">\n",
       "      <th></th>\n",
       "      <th>title</th>\n",
       "      <th>data-itemid</th>\n",
       "      <th>url</th>\n",
       "      <th>colours</th>\n",
       "    </tr>\n",
       "  </thead>\n",
       "  <tbody>\n",
       "    <tr>\n",
       "      <th>0</th>\n",
       "      <td>Triple-Pony Plaid-Print Fleece Hoodie</td>\n",
       "      <td>624792</td>\n",
       "      <td>https://www.ralphlauren.nl/en/triple-pony-plai...</td>\n",
       "      <td>[]</td>\n",
       "    </tr>\n",
       "    <tr>\n",
       "      <th>1</th>\n",
       "      <td>The RL Fleece Hoodie</td>\n",
       "      <td>490877v1</td>\n",
       "      <td>https://www.ralphlauren.nl/en/the-rl-fleece-ho...</td>\n",
       "      <td>[Holiday Red, Athletic Green, Harrison Blue]</td>\n",
       "    </tr>\n",
       "    <tr>\n",
       "      <th>2</th>\n",
       "      <td>Polo Ski Fleece Hoodie</td>\n",
       "      <td>624775</td>\n",
       "      <td>https://www.ralphlauren.nl/en/polo-ski-fleece-...</td>\n",
       "      <td>[]</td>\n",
       "    </tr>\n",
       "    <tr>\n",
       "      <th>3</th>\n",
       "      <td>Snowflake Estate-Rib Jumper</td>\n",
       "      <td>590613v1</td>\n",
       "      <td>https://www.ralphlauren.nl/en/snowflake-estate...</td>\n",
       "      <td>[Heritage Snowflake New Fo, Heritage Snowflake...</td>\n",
       "    </tr>\n",
       "    <tr>\n",
       "      <th>4</th>\n",
       "      <td>Double-Knit Pullover</td>\n",
       "      <td>624750v1</td>\n",
       "      <td>https://www.ralphlauren.nl/en/double-knit-pull...</td>\n",
       "      <td>[Army Olive, Aviator Navy, Montana Khaki]</td>\n",
       "    </tr>\n",
       "    <tr>\n",
       "      <th>...</th>\n",
       "      <td>...</td>\n",
       "      <td>...</td>\n",
       "      <td>...</td>\n",
       "      <td>...</td>\n",
       "    </tr>\n",
       "    <tr>\n",
       "      <th>260</th>\n",
       "      <td>Camo Hybrid Mockneck Jacket</td>\n",
       "      <td>639986</td>\n",
       "      <td>https://www.ralphlauren.nl/en/camo-hybrid-mock...</td>\n",
       "      <td>[]</td>\n",
       "    </tr>\n",
       "    <tr>\n",
       "      <th>261</th>\n",
       "      <td>Colour-Blocked Stretch Jersey Pullover</td>\n",
       "      <td>625356</td>\n",
       "      <td>https://www.ralphlauren.nl/en/colour-blocked-s...</td>\n",
       "      <td>[]</td>\n",
       "    </tr>\n",
       "    <tr>\n",
       "      <th>262</th>\n",
       "      <td>Stretch Jersey Half-Zip Pullover</td>\n",
       "      <td>639982</td>\n",
       "      <td>https://www.ralphlauren.nl/en/stretch-jersey-h...</td>\n",
       "      <td>[]</td>\n",
       "    </tr>\n",
       "    <tr>\n",
       "      <th>263</th>\n",
       "      <td>Polo Bear Color-Blocked Fleece Hoodie</td>\n",
       "      <td>647816</td>\n",
       "      <td>https://www.ralphlauren.nl/en/polo-bear-color-...</td>\n",
       "      <td>[]</td>\n",
       "    </tr>\n",
       "    <tr>\n",
       "      <th>264</th>\n",
       "      <td>Classic Fit Camo Jacquard Pullover</td>\n",
       "      <td>625360</td>\n",
       "      <td>https://www.ralphlauren.nl/en/classic-fit-camo...</td>\n",
       "      <td>[]</td>\n",
       "    </tr>\n",
       "  </tbody>\n",
       "</table>\n",
       "<p>265 rows × 4 columns</p>\n",
       "</div>"
      ],
      "text/plain": [
       "                                      title data-itemid  \\\n",
       "0     Triple-Pony Plaid-Print Fleece Hoodie      624792   \n",
       "1                      The RL Fleece Hoodie    490877v1   \n",
       "2                    Polo Ski Fleece Hoodie      624775   \n",
       "3               Snowflake Estate-Rib Jumper    590613v1   \n",
       "4                      Double-Knit Pullover    624750v1   \n",
       "..                                      ...         ...   \n",
       "260             Camo Hybrid Mockneck Jacket      639986   \n",
       "261  Colour-Blocked Stretch Jersey Pullover      625356   \n",
       "262        Stretch Jersey Half-Zip Pullover      639982   \n",
       "263   Polo Bear Color-Blocked Fleece Hoodie      647816   \n",
       "264      Classic Fit Camo Jacquard Pullover      625360   \n",
       "\n",
       "                                                   url  \\\n",
       "0    https://www.ralphlauren.nl/en/triple-pony-plai...   \n",
       "1    https://www.ralphlauren.nl/en/the-rl-fleece-ho...   \n",
       "2    https://www.ralphlauren.nl/en/polo-ski-fleece-...   \n",
       "3    https://www.ralphlauren.nl/en/snowflake-estate...   \n",
       "4    https://www.ralphlauren.nl/en/double-knit-pull...   \n",
       "..                                                 ...   \n",
       "260  https://www.ralphlauren.nl/en/camo-hybrid-mock...   \n",
       "261  https://www.ralphlauren.nl/en/colour-blocked-s...   \n",
       "262  https://www.ralphlauren.nl/en/stretch-jersey-h...   \n",
       "263  https://www.ralphlauren.nl/en/polo-bear-color-...   \n",
       "264  https://www.ralphlauren.nl/en/classic-fit-camo...   \n",
       "\n",
       "                                               colours  \n",
       "0                                                   []  \n",
       "1         [Holiday Red, Athletic Green, Harrison Blue]  \n",
       "2                                                   []  \n",
       "3    [Heritage Snowflake New Fo, Heritage Snowflake...  \n",
       "4            [Army Olive, Aviator Navy, Montana Khaki]  \n",
       "..                                                 ...  \n",
       "260                                                 []  \n",
       "261                                                 []  \n",
       "262                                                 []  \n",
       "263                                                 []  \n",
       "264                                                 []  \n",
       "\n",
       "[265 rows x 4 columns]"
      ]
     },
     "execution_count": 44,
     "metadata": {},
     "output_type": "execute_result"
    }
   ],
   "source": [
    "df = df.drop_duplicates(subset=['data-itemid'], keep='first').reset_index(drop=True)\n",
    "df"
   ]
  },
  {
   "cell_type": "code",
   "execution_count": 33,
   "metadata": {},
   "outputs": [
    {
     "name": "stdout",
     "output_type": "stream",
     "text": [
      "0\n",
      "32\n",
      "64\n",
      "96\n",
      "'NoneType' object is not subscriptable\n",
      "128\n",
      "'NoneType' object is not subscriptable\n",
      "160\n",
      "'NoneType' object is not subscriptable\n",
      "192\n",
      "224\n",
      "256\n",
      "288\n",
      "no tiles\n"
     ]
    },
    {
     "ename": "AttributeError",
     "evalue": "module 'pandas' has no attribute 'DateFrame'",
     "output_type": "error",
     "traceback": [
      "\u001b[1;31m---------------------------------------------------------------------------\u001b[0m",
      "\u001b[1;31mAttributeError\u001b[0m                            Traceback (most recent call last)",
      "Cell \u001b[1;32mIn[33], line 17\u001b[0m\n\u001b[0;32m     15\u001b[0m         \u001b[39mbreak\u001b[39;00m\n\u001b[0;32m     16\u001b[0m     tiles\u001b[39m.\u001b[39mextend(t)\n\u001b[1;32m---> 17\u001b[0m df\u001b[39m=\u001b[39mpd\u001b[39m.\u001b[39;49mDateFrame(tiles)\n",
      "File \u001b[1;32mc:\\code\\python\\test_task\\scraping\\lib\\site-packages\\pandas\\__init__.py:264\u001b[0m, in \u001b[0;36m__getattr__\u001b[1;34m(name)\u001b[0m\n\u001b[0;32m    260\u001b[0m     \u001b[39mfrom\u001b[39;00m \u001b[39mpandas\u001b[39;00m\u001b[39m.\u001b[39;00m\u001b[39mcore\u001b[39;00m\u001b[39m.\u001b[39;00m\u001b[39marrays\u001b[39;00m\u001b[39m.\u001b[39;00m\u001b[39msparse\u001b[39;00m \u001b[39mimport\u001b[39;00m SparseArray \u001b[39mas\u001b[39;00m _SparseArray\n\u001b[0;32m    262\u001b[0m     \u001b[39mreturn\u001b[39;00m _SparseArray\n\u001b[1;32m--> 264\u001b[0m \u001b[39mraise\u001b[39;00m \u001b[39mAttributeError\u001b[39;00m(\u001b[39mf\u001b[39m\u001b[39m\"\u001b[39m\u001b[39mmodule \u001b[39m\u001b[39m'\u001b[39m\u001b[39mpandas\u001b[39m\u001b[39m'\u001b[39m\u001b[39m has no attribute \u001b[39m\u001b[39m'\u001b[39m\u001b[39m{\u001b[39;00mname\u001b[39m}\u001b[39;00m\u001b[39m'\u001b[39m\u001b[39m\"\u001b[39m)\n",
      "\u001b[1;31mAttributeError\u001b[0m: module 'pandas' has no attribute 'DateFrame'"
     ]
    }
   ],
   "source": [
    "tiles = []\n",
    "for i in range(999):\n",
    "    scraper = cloudscraper.create_scraper(delay=10)\n",
    "    print(i*32)\n",
    "    url = URL.replace('?', f'?start={i*32}&')\n",
    "    response = scraper.get(url)\n",
    "    if response.status_code == 403:\n",
    "        print('auth error')\n",
    "        break\n",
    "    soup = BeautifulSoup(response.content, 'html.parser')\n",
    "    product_tiles = soup.select('.product-tile')\n",
    "    t = [tile_to_dict(a) for a in product_tiles]\n",
    "    if len(t) == 0:\n",
    "        print('no tiles')\n",
    "        break\n",
    "    tiles.extend(t)\n",
    "df = pd.DataFrame(tiles)"
   ]
  },
  {
   "cell_type": "code",
   "execution_count": 49,
   "metadata": {},
   "outputs": [
    {
     "name": "stdout",
     "output_type": "stream",
     "text": [
      "(0, 1)\n",
      "(1, 2)\n",
      "(2, 3)\n"
     ]
    }
   ],
   "source": [
    "for a in enumerate([1,2,3]):\n",
    "    print(a)"
   ]
  },
  {
   "cell_type": "code",
   "execution_count": 54,
   "metadata": {},
   "outputs": [
    {
     "data": {
      "text/html": [
       "<div>\n",
       "<style scoped>\n",
       "    .dataframe tbody tr th:only-of-type {\n",
       "        vertical-align: middle;\n",
       "    }\n",
       "\n",
       "    .dataframe tbody tr th {\n",
       "        vertical-align: top;\n",
       "    }\n",
       "\n",
       "    .dataframe thead th {\n",
       "        text-align: right;\n",
       "    }\n",
       "</style>\n",
       "<table border=\"1\" class=\"dataframe\">\n",
       "  <thead>\n",
       "    <tr style=\"text-align: right;\">\n",
       "      <th></th>\n",
       "      <th>title</th>\n",
       "      <th>data-itemid</th>\n",
       "      <th>url</th>\n",
       "      <th>colours</th>\n",
       "    </tr>\n",
       "  </thead>\n",
       "  <tbody>\n",
       "    <tr>\n",
       "      <th>0</th>\n",
       "      <td>Triple-Pony Plaid-Print Fleece Hoodie</td>\n",
       "      <td>624792</td>\n",
       "      <td>https://www.ralphlauren.nl/en/triple-pony-plai...</td>\n",
       "      <td>[]</td>\n",
       "    </tr>\n",
       "    <tr>\n",
       "      <th>1</th>\n",
       "      <td>The RL Fleece Hoodie</td>\n",
       "      <td>490877v1</td>\n",
       "      <td>https://www.ralphlauren.nl/en/the-rl-fleece-ho...</td>\n",
       "      <td>[Holiday Red, Athletic Green, Harrison Blue]</td>\n",
       "    </tr>\n",
       "    <tr>\n",
       "      <th>2</th>\n",
       "      <td>Polo Ski Fleece Hoodie</td>\n",
       "      <td>624775</td>\n",
       "      <td>https://www.ralphlauren.nl/en/polo-ski-fleece-...</td>\n",
       "      <td>[]</td>\n",
       "    </tr>\n",
       "    <tr>\n",
       "      <th>3</th>\n",
       "      <td>Snowflake Estate-Rib Jumper</td>\n",
       "      <td>590613v1</td>\n",
       "      <td>https://www.ralphlauren.nl/en/snowflake-estate...</td>\n",
       "      <td>[Heritage Snowflake New Fo, Heritage Snowflake...</td>\n",
       "    </tr>\n",
       "    <tr>\n",
       "      <th>4</th>\n",
       "      <td>Double-Knit Pullover</td>\n",
       "      <td>624750v1</td>\n",
       "      <td>https://www.ralphlauren.nl/en/double-knit-pull...</td>\n",
       "      <td>[Army Olive, Aviator Navy, Montana Khaki]</td>\n",
       "    </tr>\n",
       "    <tr>\n",
       "      <th>...</th>\n",
       "      <td>...</td>\n",
       "      <td>...</td>\n",
       "      <td>...</td>\n",
       "      <td>...</td>\n",
       "    </tr>\n",
       "    <tr>\n",
       "      <th>260</th>\n",
       "      <td>Camo Hybrid Mockneck Jacket</td>\n",
       "      <td>639986</td>\n",
       "      <td>https://www.ralphlauren.nl/en/camo-hybrid-mock...</td>\n",
       "      <td>[]</td>\n",
       "    </tr>\n",
       "    <tr>\n",
       "      <th>261</th>\n",
       "      <td>Colour-Blocked Stretch Jersey Pullover</td>\n",
       "      <td>625356</td>\n",
       "      <td>https://www.ralphlauren.nl/en/colour-blocked-s...</td>\n",
       "      <td>[]</td>\n",
       "    </tr>\n",
       "    <tr>\n",
       "      <th>262</th>\n",
       "      <td>Stretch Jersey Half-Zip Pullover</td>\n",
       "      <td>639982</td>\n",
       "      <td>https://www.ralphlauren.nl/en/stretch-jersey-h...</td>\n",
       "      <td>[]</td>\n",
       "    </tr>\n",
       "    <tr>\n",
       "      <th>263</th>\n",
       "      <td>Polo Bear Color-Blocked Fleece Hoodie</td>\n",
       "      <td>647816</td>\n",
       "      <td>https://www.ralphlauren.nl/en/polo-bear-color-...</td>\n",
       "      <td>[]</td>\n",
       "    </tr>\n",
       "    <tr>\n",
       "      <th>264</th>\n",
       "      <td>Classic Fit Camo Jacquard Pullover</td>\n",
       "      <td>625360</td>\n",
       "      <td>https://www.ralphlauren.nl/en/classic-fit-camo...</td>\n",
       "      <td>[]</td>\n",
       "    </tr>\n",
       "  </tbody>\n",
       "</table>\n",
       "<p>265 rows × 4 columns</p>\n",
       "</div>"
      ],
      "text/plain": [
       "                                      title data-itemid  \\\n",
       "0     Triple-Pony Plaid-Print Fleece Hoodie      624792   \n",
       "1                      The RL Fleece Hoodie    490877v1   \n",
       "2                    Polo Ski Fleece Hoodie      624775   \n",
       "3               Snowflake Estate-Rib Jumper    590613v1   \n",
       "4                      Double-Knit Pullover    624750v1   \n",
       "..                                      ...         ...   \n",
       "260             Camo Hybrid Mockneck Jacket      639986   \n",
       "261  Colour-Blocked Stretch Jersey Pullover      625356   \n",
       "262        Stretch Jersey Half-Zip Pullover      639982   \n",
       "263   Polo Bear Color-Blocked Fleece Hoodie      647816   \n",
       "264      Classic Fit Camo Jacquard Pullover      625360   \n",
       "\n",
       "                                                   url  \\\n",
       "0    https://www.ralphlauren.nl/en/triple-pony-plai...   \n",
       "1    https://www.ralphlauren.nl/en/the-rl-fleece-ho...   \n",
       "2    https://www.ralphlauren.nl/en/polo-ski-fleece-...   \n",
       "3    https://www.ralphlauren.nl/en/snowflake-estate...   \n",
       "4    https://www.ralphlauren.nl/en/double-knit-pull...   \n",
       "..                                                 ...   \n",
       "260  https://www.ralphlauren.nl/en/camo-hybrid-mock...   \n",
       "261  https://www.ralphlauren.nl/en/colour-blocked-s...   \n",
       "262  https://www.ralphlauren.nl/en/stretch-jersey-h...   \n",
       "263  https://www.ralphlauren.nl/en/polo-bear-color-...   \n",
       "264  https://www.ralphlauren.nl/en/classic-fit-camo...   \n",
       "\n",
       "                                               colours  \n",
       "0                                                   []  \n",
       "1         [Holiday Red, Athletic Green, Harrison Blue]  \n",
       "2                                                   []  \n",
       "3    [Heritage Snowflake New Fo, Heritage Snowflake...  \n",
       "4            [Army Olive, Aviator Navy, Montana Khaki]  \n",
       "..                                                 ...  \n",
       "260                                                 []  \n",
       "261                                                 []  \n",
       "262                                                 []  \n",
       "263                                                 []  \n",
       "264                                                 []  \n",
       "\n",
       "[265 rows x 4 columns]"
      ]
     },
     "execution_count": 54,
     "metadata": {},
     "output_type": "execute_result"
    }
   ],
   "source": [
    "df"
   ]
  },
  {
   "cell_type": "code",
   "execution_count": 56,
   "metadata": {},
   "outputs": [],
   "source": [
    "FOLDER_PERSON = \"deep/person\"\n",
    "FOLDER_NO_PERSON = \"deep/no_person\"\n",
    "FOLDER_TEST = \"deep\"\n",
    "def get_images(url:str, id:str):\n",
    "    scraper = cloudscraper.create_scraper(delay=2)\n",
    "    response = scraper.get(url)\n",
    "    bs = BeautifulSoup(response.content, 'html.parser')\n",
    "    imgs = bs.findAll('picture', attrs={'class': 'swiper-zoomable'})\n",
    "    img_urls = [a['data-highres-images'] for a in imgs]\n",
    "    for img_url in enumerate(img_urls):\n",
    "        filename = f'{id}_{img_url[0]}.jpg'\n",
    "        if 'alternate' in img_url[1]:\n",
    "            dst_file = os.path.join(FOLDER_PERSON, filename)\n",
    "        elif 'lifestyle' in img_url[1]:\n",
    "            dst_file = os.path.join(FOLDER_NO_PERSON, filename)\n",
    "        else:\n",
    "            dst_file = os.path.join(FOLDER_TEST, filename)\n",
    "        with open(dst_file, \"wb\") as f:\n",
    "            f.write(response.content)"
   ]
  },
  {
   "cell_type": "code",
   "execution_count": 58,
   "metadata": {},
   "outputs": [
    {
     "name": "stderr",
     "output_type": "stream",
     "text": [
      "  8%|▊         | 22/265 [01:35<18:01,  4.45s/it]"
     ]
    }
   ],
   "source": [
    "for a in tqdm(zip(df.url, df['data-itemid']), total=len(df)):\n",
    "    get_images(a[0], a[1])"
   ]
  },
  {
   "cell_type": "code",
   "execution_count": null,
   "metadata": {},
   "outputs": [],
   "source": [
    "response = scraper.get(df.url[0])\n",
    "bs = BeautifulSoup(response.content, 'html.parser')\n",
    "imgs = bs.findAll('picture', attrs={'class': 'swiper-zoomable'})\n",
    "[a['data-highres-images'] for a in imgs]"
   ]
  },
  {
   "cell_type": "code",
   "execution_count": 31,
   "metadata": {},
   "outputs": [
    {
     "data": {
      "text/plain": [
       "4"
      ]
     },
     "execution_count": 31,
     "metadata": {},
     "output_type": "execute_result"
    }
   ],
   "source": [
    "len(tiles[4])"
   ]
  },
  {
   "cell_type": "code",
   "execution_count": 14,
   "metadata": {},
   "outputs": [
    {
     "name": "stdout",
     "output_type": "stream",
     "text": [
      "0\n",
      "32\n",
      "64\n",
      "96\n"
     ]
    },
    {
     "ename": "TypeError",
     "evalue": "'NoneType' object is not subscriptable",
     "output_type": "error",
     "traceback": [
      "\u001b[1;31m---------------------------------------------------------------------------\u001b[0m",
      "\u001b[1;31mTypeError\u001b[0m                                 Traceback (most recent call last)",
      "Cell \u001b[1;32mIn[14], line 2\u001b[0m\n\u001b[0;32m      1\u001b[0m URL \u001b[39m=\u001b[39m \u001b[39mr\u001b[39m\u001b[39m\"\u001b[39m\u001b[39mhttps://www.ralphlauren.nl/en/men/clothing/hoodies-sweatshirts/10204?webcat=men\u001b[39m\u001b[39m%\u001b[39m\u001b[39m7Cclothing\u001b[39m\u001b[39m%\u001b[39m\u001b[39m7Cmen-clothing-hoodies-sweatshirts\u001b[39m\u001b[39m\"\u001b[39m\n\u001b[1;32m----> 2\u001b[0m df \u001b[39m=\u001b[39m scrape_images(URL)\n",
      "Cell \u001b[1;32mIn[13], line 13\u001b[0m, in \u001b[0;36mscrape_images\u001b[1;34m(url)\u001b[0m\n\u001b[0;32m     11\u001b[0m soup \u001b[39m=\u001b[39m BeautifulSoup(response\u001b[39m.\u001b[39mcontent, \u001b[39m'\u001b[39m\u001b[39mhtml.parser\u001b[39m\u001b[39m'\u001b[39m)\n\u001b[0;32m     12\u001b[0m product_tiles \u001b[39m=\u001b[39m soup\u001b[39m.\u001b[39mselect(\u001b[39m'\u001b[39m\u001b[39m.product-tile\u001b[39m\u001b[39m'\u001b[39m)\n\u001b[1;32m---> 13\u001b[0m t \u001b[39m=\u001b[39m [tile_to_dict(a) \u001b[39mfor\u001b[39;00m a \u001b[39min\u001b[39;00m product_tiles]\n\u001b[0;32m     14\u001b[0m \u001b[39mif\u001b[39;00m \u001b[39mlen\u001b[39m(t) \u001b[39m==\u001b[39m \u001b[39m0\u001b[39m:\n\u001b[0;32m     15\u001b[0m     \u001b[39mprint\u001b[39m(\u001b[39m'\u001b[39m\u001b[39mno tiles\u001b[39m\u001b[39m'\u001b[39m)\n",
      "Cell \u001b[1;32mIn[13], line 13\u001b[0m, in \u001b[0;36m<listcomp>\u001b[1;34m(.0)\u001b[0m\n\u001b[0;32m     11\u001b[0m soup \u001b[39m=\u001b[39m BeautifulSoup(response\u001b[39m.\u001b[39mcontent, \u001b[39m'\u001b[39m\u001b[39mhtml.parser\u001b[39m\u001b[39m'\u001b[39m)\n\u001b[0;32m     12\u001b[0m product_tiles \u001b[39m=\u001b[39m soup\u001b[39m.\u001b[39mselect(\u001b[39m'\u001b[39m\u001b[39m.product-tile\u001b[39m\u001b[39m'\u001b[39m)\n\u001b[1;32m---> 13\u001b[0m t \u001b[39m=\u001b[39m [tile_to_dict(a) \u001b[39mfor\u001b[39;00m a \u001b[39min\u001b[39;00m product_tiles]\n\u001b[0;32m     14\u001b[0m \u001b[39mif\u001b[39;00m \u001b[39mlen\u001b[39m(t) \u001b[39m==\u001b[39m \u001b[39m0\u001b[39m:\n\u001b[0;32m     15\u001b[0m     \u001b[39mprint\u001b[39m(\u001b[39m'\u001b[39m\u001b[39mno tiles\u001b[39m\u001b[39m'\u001b[39m)\n",
      "Cell \u001b[1;32mIn[3], line 6\u001b[0m, in \u001b[0;36mtile_to_dict\u001b[1;34m(tile)\u001b[0m\n\u001b[0;32m      4\u001b[0m item[\u001b[39m'\u001b[39m\u001b[39mdata-itemid\u001b[39m\u001b[39m'\u001b[39m] \u001b[39m=\u001b[39m tile[\u001b[39m'\u001b[39m\u001b[39mdata-itemid\u001b[39m\u001b[39m'\u001b[39m]\n\u001b[0;32m      5\u001b[0m item[\u001b[39m'\u001b[39m\u001b[39murl\u001b[39m\u001b[39m'\u001b[39m] \u001b[39m=\u001b[39m tile[\u001b[39m'\u001b[39m\u001b[39mdata-monetate-producturl\u001b[39m\u001b[39m'\u001b[39m]\n\u001b[1;32m----> 6\u001b[0m item[\u001b[39m'\u001b[39m\u001b[39mcolours\u001b[39m\u001b[39m'\u001b[39m] \u001b[39m=\u001b[39m [a\u001b[39m.\u001b[39mfind(\u001b[39m'\u001b[39m\u001b[39mimg\u001b[39m\u001b[39m'\u001b[39m)[\u001b[39m'\u001b[39m\u001b[39malt\u001b[39m\u001b[39m'\u001b[39m] \u001b[39mfor\u001b[39;00m a \u001b[39min\u001b[39;00m tile\u001b[39m.\u001b[39mfindAll(\u001b[39m'\u001b[39m\u001b[39mli\u001b[39m\u001b[39m'\u001b[39m)]\n\u001b[0;32m      7\u001b[0m \u001b[39mreturn\u001b[39;00m item\n",
      "Cell \u001b[1;32mIn[3], line 6\u001b[0m, in \u001b[0;36m<listcomp>\u001b[1;34m(.0)\u001b[0m\n\u001b[0;32m      4\u001b[0m item[\u001b[39m'\u001b[39m\u001b[39mdata-itemid\u001b[39m\u001b[39m'\u001b[39m] \u001b[39m=\u001b[39m tile[\u001b[39m'\u001b[39m\u001b[39mdata-itemid\u001b[39m\u001b[39m'\u001b[39m]\n\u001b[0;32m      5\u001b[0m item[\u001b[39m'\u001b[39m\u001b[39murl\u001b[39m\u001b[39m'\u001b[39m] \u001b[39m=\u001b[39m tile[\u001b[39m'\u001b[39m\u001b[39mdata-monetate-producturl\u001b[39m\u001b[39m'\u001b[39m]\n\u001b[1;32m----> 6\u001b[0m item[\u001b[39m'\u001b[39m\u001b[39mcolours\u001b[39m\u001b[39m'\u001b[39m] \u001b[39m=\u001b[39m [a\u001b[39m.\u001b[39;49mfind(\u001b[39m'\u001b[39;49m\u001b[39mimg\u001b[39;49m\u001b[39m'\u001b[39;49m)[\u001b[39m'\u001b[39;49m\u001b[39malt\u001b[39;49m\u001b[39m'\u001b[39;49m] \u001b[39mfor\u001b[39;00m a \u001b[39min\u001b[39;00m tile\u001b[39m.\u001b[39mfindAll(\u001b[39m'\u001b[39m\u001b[39mli\u001b[39m\u001b[39m'\u001b[39m)]\n\u001b[0;32m      7\u001b[0m \u001b[39mreturn\u001b[39;00m item\n",
      "\u001b[1;31mTypeError\u001b[0m: 'NoneType' object is not subscriptable"
     ]
    }
   ],
   "source": [
    "URL = r\"https://www.ralphlauren.nl/en/men/clothing/hoodies-sweatshirts/10204?webcat=men%7Cclothing%7Cmen-clothing-hoodies-sweatshirts\"\n",
    "df = scrape_images(URL)"
   ]
  },
  {
   "cell_type": "code",
   "execution_count": 5,
   "metadata": {},
   "outputs": [
    {
     "name": "stdout",
     "output_type": "stream",
     "text": [
      "<class 'pandas.core.frame.DataFrame'>\n",
      "RangeIndex: 32 entries, 0 to 31\n",
      "Data columns (total 4 columns):\n",
      " #   Column       Non-Null Count  Dtype \n",
      "---  ------       --------------  ----- \n",
      " 0   title        32 non-null     object\n",
      " 1   data-itemid  32 non-null     object\n",
      " 2   url          32 non-null     object\n",
      " 3   colours      32 non-null     object\n",
      "dtypes: object(4)\n",
      "memory usage: 1.1+ KB\n"
     ]
    }
   ],
   "source": [
    "df = pd.DataFrame(tiles)\n",
    "df.info()"
   ]
  },
  {
   "attachments": {},
   "cell_type": "markdown",
   "metadata": {},
   "source": [
    "### Parsing cloth pages"
   ]
  },
  {
   "cell_type": "code",
   "execution_count": 6,
   "metadata": {},
   "outputs": [
    {
     "data": {
      "text/plain": [
       "['https://www.rlmedia.io/is/image/PoloGSI/s7-1449848_alternate10?$rl_pdp_mob_zoom$',\n",
       " 'https://www.rlmedia.io/is/image/PoloGSI/s7-1449848_lifestyle?$rl_pdp_mob_zoom$',\n",
       " 'https://www.rlmedia.io/is/image/PoloGSI/s7-1449848_alternate1?$rl_pdp_mob_zoom$',\n",
       " 'https://www.rlmedia.io/is/image/PoloGSI/s7-1449848_alternate3?$rl_pdp_mob_zoom$',\n",
       " 'https://www.rlmedia.io/is/image/PoloGSI/s7-1449848_alternate4?$rl_pdp_mob_zoom$']"
      ]
     },
     "execution_count": 6,
     "metadata": {},
     "output_type": "execute_result"
    }
   ],
   "source": [
    "response = scraper.get(df.url[0])\n",
    "bs = BeautifulSoup(response.content, 'html.parser')\n",
    "imgs = bs.findAll('picture', attrs={'class': 'swiper-zoomable'})\n",
    "[a['data-highres-images'] for a in imgs]"
   ]
  },
  {
   "cell_type": "code",
   "execution_count": null,
   "metadata": {},
   "outputs": [],
   "source": []
  },
  {
   "cell_type": "code",
   "execution_count": null,
   "metadata": {},
   "outputs": [],
   "source": []
  },
  {
   "cell_type": "code",
   "execution_count": null,
   "metadata": {},
   "outputs": [],
   "source": []
  }
 ],
 "metadata": {
  "kernelspec": {
   "display_name": "scraping",
   "language": "python",
   "name": "python3"
  },
  "language_info": {
   "codemirror_mode": {
    "name": "ipython",
    "version": 3
   },
   "file_extension": ".py",
   "mimetype": "text/x-python",
   "name": "python",
   "nbconvert_exporter": "python",
   "pygments_lexer": "ipython3",
   "version": "3.10.9"
  },
  "orig_nbformat": 4,
  "vscode": {
   "interpreter": {
    "hash": "9f664ab14f881270f6cb738ada9cdc617a115279c45c5e08d23c40b7bda2df46"
   }
  }
 },
 "nbformat": 4,
 "nbformat_minor": 2
}
