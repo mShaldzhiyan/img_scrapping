{
 "cells": [
  {
   "cell_type": "code",
   "execution_count": 144,
   "metadata": {},
   "outputs": [],
   "source": [
    "import requests\n",
    "from bs4 import BeautifulSoup\n",
    "import os\n",
    "import cloudscraper\n",
    "import shutil\n",
    "import time\n",
    "import re\n",
    "from tqdm import tqdm\n",
    "import pandas as pd"
   ]
  },
  {
   "cell_type": "code",
   "execution_count": 152,
   "metadata": {},
   "outputs": [],
   "source": [
    "def tile_to_dict(tile):\n",
    "    item = dict()\n",
    "    item['title'] = tile.findAll('a')[0]['title']\n",
    "    item['data-itemid'] = tile['data-itemid']\n",
    "    item['url'] = tile['data-monetate-producturl']\n",
    "    item['colours'] = [a.find('img')['alt'] for a in tile.findAll('li')]\n",
    "    return item"
   ]
  },
  {
   "attachments": {},
   "cell_type": "markdown",
   "metadata": {},
   "source": [
    "### Parsing tiles"
   ]
  },
  {
   "cell_type": "code",
   "execution_count": 2,
   "metadata": {},
   "outputs": [],
   "source": [
    "URL = r\"https://www.ralphlauren.nl/en/men/clothing/hoodies-sweatshirts/10204?webcat=men%7Cclothing%7Cmen-clothing-hoodies-sweatshirts\"\n",
    "scraper = cloudscraper.create_scraper(delay=10)\n",
    "response = scraper.get(URL)\n",
    "bs = BeautifulSoup(response.content, 'html.parser')\n",
    "product_tiles = bs.select('.product-tile')\n",
    "tiles = [tile_to_dict(a) for a in product_tiles]"
   ]
  },
  {
   "cell_type": "code",
   "execution_count": 151,
   "metadata": {},
   "outputs": [
    {
     "name": "stdout",
     "output_type": "stream",
     "text": [
      "<class 'pandas.core.frame.DataFrame'>\n",
      "RangeIndex: 32 entries, 0 to 31\n",
      "Data columns (total 4 columns):\n",
      " #   Column       Non-Null Count  Dtype \n",
      "---  ------       --------------  ----- \n",
      " 0   title        32 non-null     object\n",
      " 1   data-itemid  32 non-null     object\n",
      " 2   url          32 non-null     object\n",
      " 3   colours      32 non-null     object\n",
      "dtypes: object(4)\n",
      "memory usage: 1.1+ KB\n"
     ]
    }
   ],
   "source": [
    "df = pd.DataFrame(tiles)\n",
    "df.info()"
   ]
  },
  {
   "attachments": {},
   "cell_type": "markdown",
   "metadata": {},
   "source": [
    "### Parsing cloth pages"
   ]
  },
  {
   "cell_type": "code",
   "execution_count": 155,
   "metadata": {},
   "outputs": [
    {
     "data": {
      "text/plain": [
       "<Response [200]>"
      ]
     },
     "execution_count": 155,
     "metadata": {},
     "output_type": "execute_result"
    }
   ],
   "source": [
    "CLOTH_PAGE = r\"https://www.ralphlauren.nl/en/the-rl-fleece-hoodie-490877v1.html?dwvar490877v1_colorname=Holiday%20Red&cgid=men-clothing-hoodies-sweatshirts&webcat=men%2Fclothing%2Fmen%20clothing%20hoodies%20sweatshirts#webcat=men%7Cclothing%7Cmen-clothing-hoodies-sweatshirts&start=1&cgid=men-clothing-hoodies-sweatshirts\"\n",
    "response = scraper.get(CLOTH_PAGE)\n",
    "response"
   ]
  },
  {
   "cell_type": "code",
   "execution_count": 156,
   "metadata": {},
   "outputs": [],
   "source": [
    "bs = BeautifulSoup(response.content, 'html.parser')"
   ]
  },
  {
   "cell_type": "code",
   "execution_count": 185,
   "metadata": {},
   "outputs": [],
   "source": [
    "imgs = bs.findAll('picture', attrs={'class': 'swiper-zoomable'})"
   ]
  },
  {
   "cell_type": "code",
   "execution_count": 186,
   "metadata": {},
   "outputs": [
    {
     "data": {
      "text/plain": [
       "['https://www.rlmedia.io/is/image/PoloGSI/s7-1449862_alternate10?$rl_pdp_mob_zoom$',\n",
       " 'https://www.rlmedia.io/is/image/PoloGSI/s7-1449862_lifestyle?$rl_pdp_mob_zoom$',\n",
       " 'https://www.rlmedia.io/is/image/PoloGSI/s7-1449862_alternate1?$rl_pdp_mob_zoom$',\n",
       " 'https://www.rlmedia.io/is/image/PoloGSI/s7-1449862_alternate3?$rl_pdp_mob_zoom$',\n",
       " 'https://www.rlmedia.io/is/image/PoloGSI/s7-1449862_alternate4?$rl_pdp_mob_zoom$']"
      ]
     },
     "execution_count": 186,
     "metadata": {},
     "output_type": "execute_result"
    }
   ],
   "source": [
    "[a['data-highres-images'] for a in imgs]"
   ]
  }
 ],
 "metadata": {
  "kernelspec": {
   "display_name": "scraping",
   "language": "python",
   "name": "python3"
  },
  "language_info": {
   "codemirror_mode": {
    "name": "ipython",
    "version": 3
   },
   "file_extension": ".py",
   "mimetype": "text/x-python",
   "name": "python",
   "nbconvert_exporter": "python",
   "pygments_lexer": "ipython3",
   "version": "3.10.9"
  },
  "orig_nbformat": 4,
  "vscode": {
   "interpreter": {
    "hash": "9f664ab14f881270f6cb738ada9cdc617a115279c45c5e08d23c40b7bda2df46"
   }
  }
 },
 "nbformat": 4,
 "nbformat_minor": 2
}
