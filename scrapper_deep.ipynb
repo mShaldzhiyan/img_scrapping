{
 "cells": [
  {
   "cell_type": "code",
   "execution_count": 1,
   "metadata": {},
   "outputs": [],
   "source": [
    "import requests\n",
    "from bs4 import BeautifulSoup\n",
    "import os\n",
    "import cloudscraper\n",
    "import shutil\n",
    "import time\n",
    "import re\n",
    "from tqdm import tqdm"
   ]
  },
  {
   "cell_type": "code",
   "execution_count": 2,
   "metadata": {},
   "outputs": [],
   "source": [
    "URL = r\"https://www.ralphlauren.nl/en/men/clothing/hoodies-sweatshirts/10204?webcat=men%7Cclothing%7Cmen-clothing-hoodies-sweatshirts\""
   ]
  },
  {
   "cell_type": "code",
   "execution_count": 3,
   "metadata": {},
   "outputs": [],
   "source": [
    "scraper = cloudscraper.create_scraper(delay=10)\n"
   ]
  },
  {
   "cell_type": "code",
   "execution_count": null,
   "metadata": {},
   "outputs": [],
   "source": [
    "#https://www.ralphlauren.nl/en/the-rl-fleece-hoodie-490877v1.html?dwvar490877v1_colorname=Holiday%20Red&cgid=men-clothing-hoodies-sweatshirts&webcat=men%2Fclothing%2Fmen%20clothing%20hoodies%20sweatshirts"
   ]
  },
  {
   "cell_type": "code",
   "execution_count": null,
   "metadata": {},
   "outputs": [],
   "source": [
    "item = dict()\n",
    "item['name'] = "
   ]
  },
  {
   "cell_type": "code",
   "execution_count": 6,
   "metadata": {},
   "outputs": [],
   "source": [
    "response = scraper.get(URL)"
   ]
  },
  {
   "cell_type": "code",
   "execution_count": 11,
   "metadata": {},
   "outputs": [],
   "source": [
    "bs = BeautifulSoup(response.content, 'html.parser')"
   ]
  },
  {
   "cell_type": "code",
   "execution_count": 106,
   "metadata": {},
   "outputs": [
    {
     "data": {
      "text/plain": [
       "<div class=\"product-tile\" data-cgid=\"men-clothing-hoodies-sweatshirts\" data-itemid=\"490877v1\" data-masterid=\"490877v1\" data-monetate-pid=\"490877v1\" data-monetate-producturl=\"https://www.ralphlauren.nl/en/the-rl-fleece-hoodie-490877v1.html?dwvar_490877v1_colorname=Harrison%20Blue&amp;cgid=men-clothing-hoodies-sweatshirts&amp;webcat=men/clothing/men clothing hoodies sweatshirts\" data-pagegender=\"men\" data-pname=\"The RL Fleece Hoodie\" data-productgroup=\"PFS\" data-stockmsg=\"IN_STOCK\" data-webcat=\"men|clothing|men-clothing-hoodies-sweatshirts\" id=\"57f3481dd3317a67d80ab28c4c\"><!-- dwMarker=\"product\" dwContentID=\"57f3481dd3317a67d80ab28c4c\" -->\n",
       "<div class=\"product-image\" style=\"background-color: #F0efed;\"><!-- dwMarker=\"product\" dwContentID=\"57f3481dd3317a67d80ab28c4c\" -->\n",
       "<a class=\"thumb-link\" href=\"/en/the-rl-fleece-hoodie-490877v1.html?dwvar490877v1_colorname=Holiday%20Red&amp;cgid=men-clothing-hoodies-sweatshirts&amp;webcat=men%2Fclothing%2Fmen%20clothing%20hoodies%20sweatshirts\" style=\"--aspect-ratio: 0.797;\" title=\"The RL Fleece Hoodie\">\n",
       "<picture class=\"rlc-picture\" tabindex=\"0\">\n",
       "<source class=\"rlc-image-src-desktop\" media=\"(min-width: 768px)\" srcset=\"https://www.rlmedia.io/is/image/PoloGSI/s7-1449862_alternate10?$plpDeskRF$\"/>\n",
       "<source class=\"rlc-image-src-mobile\" media=\"(max-width: 767px)\" srcset=\"https://www.rlmedia.io/is/image/PoloGSI/s7-1449862_alternate10?$plpMob$\"/>\n",
       "<img alt=\"The RL Fleece Hoodie\" class=\"default-img\" onerror=\"this.onerror=null;this.src='https://www.rlmedia.io/is/image/PoloGSI/s7-1449862_lifestyle?$plpDeskRF$';this.parentElement.children[0].srcset='https://www.rlmedia.io/is/image/PoloGSI/s7-1449862_lifestyle?$plpDeskRF$';this.parentElement.children[1].srcset='https://www.rlmedia.io/is/image/PoloGSI/s7-1449862_lifestyle?$plpMob$';\" src=\"https://www.rlmedia.io/is/image/PoloGSI/s7-1449862_lifestyle?$plpDeskRF$\" style=\"background-color: #F0efed;\" tabindex=\"0\" title=\"The RL Fleece Hoodie\"/>\n",
       "</picture>\n",
       "<picture class=\"altImgPlp fading-in\">\n",
       "<source media=\"(min-width: 960px)\" srcset=\"https://www.rlmedia.io/is/image/PoloGSI/s7-1449862_alternate1?$plpDeskRF$\"/>\n",
       "<source media=\"(max-width: 959px)\" srcset=\"https://cdn-fsly.yottaa.net/622a4d5dd93140f45e0b2070/www.ralphlauren.nl/v~4b.37/on/demandware.static/Sites-RLEU_Sterling-Site/-/default/dw817194ce/images/null_1x1.gif?yocs=2G_2K_2N_\"/>\n",
       "<img onerror=\"var p = this.parentNode;p.parentNode.removeChild(p);\" src=\"https://www.rlmedia.io/is/image/PoloGSI/s7-1449862_alternate1?$plpDeskRF$\">\n",
       "</img></picture>\n",
       "<img class=\"hover-img alt-fading-in\" src=\"https://cdn-fsly.yottaa.net/622a4d5dd93140f45e0b2070/www.ralphlauren.nl/v~4b.37/on/demandware.static/Sites-RLEU_Sterling-Site/-/default/dw817194ce/images/null_1x1.gif?yocs=2G_2K_2N_\" style=\"background-color: #F0efed;\">\n",
       "</img></a>\n",
       "<div class=\"plp-favorites fading-in\">\n",
       "<div class=\"wishlist-pdp add-to-favorites\" data-item=\"490877v1\" productid=\"490877v1\">\n",
       "<div class=\"remove-favorites\" style=\"display:none;\">\n",
       "<a class=\"remove-from-favorites\" data-action=\"Favorites\" href=\"https://www.ralphlauren.nl/on/demandware.store/Sites-RLEU_Sterling-Site/en_NL/Wishlist-Remove?uuid=&amp;productID=490877v1&amp;favPage=false&amp;plpFavPage=true&amp;myRL=&amp;forYouHP=\">Remove from Wishlist </a>\n",
       "</div>\n",
       "<div class=\"add-to-favorites-link\" style=\"display:block;\">\n",
       "<a class=\"save-To-favorites\" data-action=\"Favorites\" href=\"https://www.ralphlauren.nl/on/demandware.store/Sites-RLEU_Sterling-Site/en_NL/Wishlist-Add?pid=490877v1&amp;plpFavPage=true&amp;cgid=men-clothing-hoodies-sweatshirts&amp;action=favrate\">Save to Wishlist</a>\n",
       "</div>\n",
       "<!-- List Enabled -->\n",
       "<div class=\"confirmation-msg wl-list-confirm\">\n",
       "<span aria-label=\"This item has been saved to your Wishlist.\" aria-live=\"polite\">\n",
       "<!-- List Enabled + Logged In -->\n",
       "<div class=\"wl-title\">\n",
       "\t\t\t\t\t\t\n",
       "\t\t\t\t\t        Added to Wishlist\n",
       "\t\t\t\t\t\t\n",
       "\t\t\t\t\t</div>\n",
       "<p>Create a new list to organize this item and similar favorites in one place.</p>\n",
       "<a class=\"button show-create-list inverse plus-sign\" href=\"https://www.ralphlauren.nl/on/demandware.store/Sites-RLEU_Sterling-Site/en_NL/Wishlist-ShowNewListForm?pid=\">\n",
       "\t\t\t\t\t\t\tCreate List\n",
       "\t\t\t\t\t\t</a>\n",
       "</span>\n",
       "<div class=\"arrow-center\"></div>\n",
       "</div>\n",
       "</div>\n",
       "</div>\n",
       "</div>\n",
       "<div class=\"product-promo-badging\">\n",
       "<div class=\"product-promo\" style=\"color: #041E3A;\">\n",
       "<div class=\"promotional-message\">\n",
       "UP TO 50% OFF\n",
       "</div>\n",
       "</div>\n",
       "<div class=\"badging\" style=\"color: #041E3A;\">\n",
       "<div class=\"badging-message\">\n",
       "</div>\n",
       "</div>\n",
       "</div>\n",
       "<div class=\"brand-name clearfix\">\n",
       "\n",
       "\n",
       "Polo Ralph Lauren\n",
       "\n",
       "</div>\n",
       "<div class=\"product-name\">\n",
       "<a class=\"name-link\" href=\"/en/the-rl-fleece-hoodie-490877v1.html?dwvar490877v1_colorname=Holiday%20Red&amp;cgid=men-clothing-hoodies-sweatshirts&amp;webcat=men%2Fclothing%2Fmen%20clothing%20hoodies%20sweatshirts\" title=\"Go to Product: The RL Fleece Hoodie\">\n",
       "The RL Fleece Hoodie\n",
       "</a>\n",
       "</div>\n",
       "<div class=\"product-pricing\" tabindex=\"0\">\n",
       "<input class=\"js-product-grid-prices\" type=\"hidden\" value=\"107.4 - 125.3\">\n",
       "<span class=\"product-sales-price range\" title=\"Price\"><span class=\"lowred\"><span class=\"visually-hidden\">Sale Price </span><span class=\"visually-hidden\">from </span>107,40 € <span aria-hidden=\"true\">-</span> <span class=\"visually-hidden\">to </span>125,30 €</span></span>\n",
       "<input class=\"js-product-search-curcatId\" type=\"hidden\" value=\"men-clothing\"/>\n",
       "<input class=\"js-product-grid-catId\" type=\"hidden\" value=\"men-clothing-hoodies-sweatshirts\"/>\n",
       "<input class=\"js-product-search-catId\" type=\"hidden\" value=\"men-clothing-hoodies\"/>\n",
       "</input></div>\n",
       "<div class=\"availability_msg\">\n",
       "<a class=\"product-swatches-all\" href=\"/en/the-rl-fleece-hoodie-490877v1.html?dwvar490877v1_colorname=Holiday%20Red&amp;cgid=men-clothing-hoodies-sweatshirts&amp;webcat=men%2Fclothing%2Fmen%20clothing%20hoodies%20sweatshirts\" title=\"More colours available\">\n",
       "\n",
       "\n",
       "Available in 3 colours\n",
       "\n",
       "\n",
       "</a>\n",
       "</div>\n",
       "<div class=\"swatches-cont\">\n",
       "<div class=\"product-swatches\">\n",
       "<ul class=\"swatch-list\">\n",
       "<li>\n",
       "<a aria-label=\"Holiday Red Color for The RL Fleece Hoodie\" class=\"swatch selected\" data-color=\"Holiday Red\" href=\"/en/the-rl-fleece-hoodie-490877v1.html?dwvar490877v1_colorname=Holiday%20Red&amp;cgid=men-clothing-hoodies-sweatshirts&amp;webcat=men%2Fclothing%2Fmen%20clothing%20hoodies%20sweatshirts\">\n",
       "<img alt=\"Holiday Red\" class=\"swatch-image\" data-thumb='{\"src\":\"https://www.rlmedia.io/is/image/PoloGSI/s7-1449862_lifestyle?$plpDeskRF$\",\"alt\":\"The RL Fleece Hoodie\",\"title\":\"The RL Fleece Hoodie\"}' src=\"https://www.rlmedia.io/is/image/PoloGSI/swatch_1449862?$plpSwatch$\">\n",
       "</img></a>\n",
       "</li>\n",
       "<li>\n",
       "<a aria-label=\"Athletic Green Color for The RL Fleece Hoodie\" class=\"swatch\" data-color=\"Athletic Green\" href=\"/en/the-rl-fleece-hoodie-490877v1.html?dwvar490877v1_colorname=Athletic%20Green&amp;cgid=men-clothing-hoodies-sweatshirts&amp;webcat=men%2Fclothing%2Fmen%20clothing%20hoodies%20sweatshirts\">\n",
       "<img alt=\"Athletic Green\" class=\"swatch-image\" data-thumb='{\"src\":\"https://www.rlmedia.io/is/image/PoloGSI/s7-1449782_lifestyle?$plpDeskRF$\",\"alt\":\"The RL Fleece Hoodie\",\"title\":\"The RL Fleece Hoodie\"}' src=\"https://www.rlmedia.io/is/image/PoloGSI/swatch_1449782?$plpSwatch$\">\n",
       "</img></a>\n",
       "</li>\n",
       "<li>\n",
       "<a aria-label=\"Harrison Blue Color for The RL Fleece Hoodie\" class=\"swatch\" data-color=\"Harrison Blue\" href=\"/en/the-rl-fleece-hoodie-490877v1.html?dwvar490877v1_colorname=Harrison%20Blue&amp;cgid=men-clothing-hoodies-sweatshirts&amp;webcat=men%2Fclothing%2Fmen%20clothing%20hoodies%20sweatshirts\">\n",
       "<img alt=\"Harrison Blue\" class=\"swatch-image\" data-thumb='{\"src\":\"https://www.rlmedia.io/is/image/PoloGSI/s7-1449850_lifestyle?$plpDeskRF$\",\"alt\":\"The RL Fleece Hoodie\",\"title\":\"The RL Fleece Hoodie\"}' src=\"https://www.rlmedia.io/is/image/PoloGSI/swatch_1449850?$plpSwatch$\"/>\n",
       "</a>\n",
       "</li>\n",
       "</ul><!-- .swatch-list -->\n",
       "</div><!-- .product-swatches -->\n",
       "</div>\n",
       "</div>"
      ]
     },
     "execution_count": 106,
     "metadata": {},
     "output_type": "execute_result"
    }
   ],
   "source": [
    "product_tiles = bs.select('.product-tile')\n",
    "tile = product_tiles[0]\n",
    "tile"
   ]
  },
  {
   "cell_type": "code",
   "execution_count": 129,
   "metadata": {},
   "outputs": [],
   "source": [
    "item = dict()\n",
    "item['title'] = tile.findAll('a')[0]['title']\n",
    "item['data-itemid'] = tile['data-itemid']\n",
    "item['url'] = tile['data-monetate-producturl']\n",
    "item['colours'] = [a.find('img')['alt'] for a in tile.findAll('li')]"
   ]
  },
  {
   "cell_type": "code",
   "execution_count": 130,
   "metadata": {},
   "outputs": [
    {
     "data": {
      "text/plain": [
       "{'title': 'The RL Fleece Hoodie',\n",
       " 'data-itemid': '490877v1',\n",
       " 'url': 'https://www.ralphlauren.nl/en/the-rl-fleece-hoodie-490877v1.html?dwvar_490877v1_colorname=Harrison%20Blue&cgid=men-clothing-hoodies-sweatshirts&webcat=men/clothing/men clothing hoodies sweatshirts',\n",
       " 'colours': ['Holiday Red', 'Athletic Green', 'Harrison Blue']}"
      ]
     },
     "execution_count": 130,
     "metadata": {},
     "output_type": "execute_result"
    }
   ],
   "source": [
    "item"
   ]
  },
  {
   "cell_type": "code",
   "execution_count": null,
   "metadata": {},
   "outputs": [],
   "source": []
  }
 ],
 "metadata": {
  "kernelspec": {
   "display_name": "scraping",
   "language": "python",
   "name": "python3"
  },
  "language_info": {
   "codemirror_mode": {
    "name": "ipython",
    "version": 3
   },
   "file_extension": ".py",
   "mimetype": "text/x-python",
   "name": "python",
   "nbconvert_exporter": "python",
   "pygments_lexer": "ipython3",
   "version": "3.10.9"
  },
  "orig_nbformat": 4,
  "vscode": {
   "interpreter": {
    "hash": "9f664ab14f881270f6cb738ada9cdc617a115279c45c5e08d23c40b7bda2df46"
   }
  }
 },
 "nbformat": 4,
 "nbformat_minor": 2
}
