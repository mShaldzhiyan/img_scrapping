{
 "cells": [
  {
   "cell_type": "code",
   "execution_count": 2,
   "metadata": {},
   "outputs": [],
   "source": [
    "from PIL import Image"
   ]
  },
  {
   "cell_type": "code",
   "execution_count": 3,
   "metadata": {},
   "outputs": [
    {
     "name": "stdout",
     "output_type": "stream",
     "text": [
      "The file is not a valid image.\n"
     ]
    }
   ],
   "source": [
    "if True:\n",
    "    FOLDER_CLEANING = r\"\\deep\\person\"\n",
    "    FOLDER_MOVETO = r\"\\deep\\not_images\"\n",
    "    bad_imgs = []\n",
    "    try:\n",
    "        img = Image.open(r\"C:\\code\\python\\test_task\\deep\\person\\435155_Andover_Heather_3.jpg\")\n",
    "        print(\"The file is a valid image.\")\n",
    "    except IOError:\n",
    "        print(\"The file is not a valid image.\")"
   ]
  }
 ],
 "metadata": {
  "kernelspec": {
   "display_name": "scraping",
   "language": "python",
   "name": "python3"
  },
  "language_info": {
   "codemirror_mode": {
    "name": "ipython",
    "version": 3
   },
   "file_extension": ".py",
   "mimetype": "text/x-python",
   "name": "python",
   "nbconvert_exporter": "python",
   "pygments_lexer": "ipython3",
   "version": "3.10.9"
  },
  "orig_nbformat": 4,
  "vscode": {
   "interpreter": {
    "hash": "9f664ab14f881270f6cb738ada9cdc617a115279c45c5e08d23c40b7bda2df46"
   }
  }
 },
 "nbformat": 4,
 "nbformat_minor": 2
}
