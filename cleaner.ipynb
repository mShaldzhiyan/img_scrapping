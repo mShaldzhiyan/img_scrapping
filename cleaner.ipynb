{
 "cells": [
  {
   "cell_type": "code",
   "execution_count": 1,
   "metadata": {},
   "outputs": [],
   "source": [
    "from tqdm import tqdm\n",
    "from PIL import Image\n",
    "import shutil\n",
    "import os"
   ]
  },
  {
   "cell_type": "code",
   "execution_count": 3,
   "metadata": {},
   "outputs": [
    {
     "name": "stderr",
     "output_type": "stream",
     "text": [
      " 16%|█▌        | 251/1556 [00:00<00:00, 1382.29it/s]"
     ]
    },
    {
     "name": "stdout",
     "output_type": "stream",
     "text": [
      "The file 435155_Andover_Heather_3.jpg is not a valid image.\n",
      "The file 435155_White_3.jpg is not a valid image.\n",
      "The file 462516_Black_3.jpg is not a valid image.\n",
      "The file 493267_Andover_Heather_3.jpg is not a valid image.\n",
      "The file 493267_Andover_Heather_6.jpg is not a valid image.\n",
      "The file 516161_Black_3.jpg is not a valid image.\n",
      "The file 516161_Carmel_Pink_5.jpg is not a valid image.\n",
      "The file 582917_Spring_Navy_Heather_C9949_0.jpg is not a valid image.\n",
      "The file 601322_3.jpg is not a valid image.\n"
     ]
    },
    {
     "name": "stderr",
     "output_type": "stream",
     "text": [
      " 67%|██████▋   | 1048/1556 [00:00<00:00, 2389.36it/s]"
     ]
    },
    {
     "name": "stdout",
     "output_type": "stream",
     "text": [
      "The file 624757_Bedford_Blue_Heather_3.jpg is not a valid image.\n",
      "The file 624757_Bedford_Blue_Heather_6.jpg is not a valid image.\n",
      "The file 624757_Bedford_Blue_Heather_7.jpg is not a valid image.\n",
      "The file 624757_Bedford_Blue_Heather_8.jpg is not a valid image.\n",
      "The file 630387_3.jpg is not a valid image.\n"
     ]
    },
    {
     "name": "stderr",
     "output_type": "stream",
     "text": [
      "100%|██████████| 1556/1556 [00:00<00:00, 2182.37it/s]\n"
     ]
    }
   ],
   "source": [
    "if True:\n",
    "    FOLDER_CLEANING = \"deep/person\"\n",
    "    FOLDER_MOVETO = \"deep/not_images\"\n",
    "    for file in tqdm(os.listdir(FOLDER_CLEANING)):\n",
    "        file_path = os.path.join(FOLDER_CLEANING, file)\n",
    "        try:\n",
    "            img = Image.open(file_path)\n",
    "        except IOError:\n",
    "            print(\"The file {} is not a valid image.\".format(file))\n",
    "            shutil.move(file_path, FOLDER_MOVETO)"
   ]
  }
 ],
 "metadata": {
  "kernelspec": {
   "display_name": "scraping",
   "language": "python",
   "name": "python3"
  },
  "language_info": {
   "codemirror_mode": {
    "name": "ipython",
    "version": 3
   },
   "file_extension": ".py",
   "mimetype": "text/x-python",
   "name": "python",
   "nbconvert_exporter": "python",
   "pygments_lexer": "ipython3",
   "version": "3.10.9"
  },
  "orig_nbformat": 4,
  "vscode": {
   "interpreter": {
    "hash": "9f664ab14f881270f6cb738ada9cdc617a115279c45c5e08d23c40b7bda2df46"
   }
  }
 },
 "nbformat": 4,
 "nbformat_minor": 2
}
